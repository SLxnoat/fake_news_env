{
 "cells": [
  {
   "cell_type": "code",
   "execution_count": null,
   "id": "1fe9f2c7-8bd4-4efc-8180-34d7f7445493",
   "metadata": {},
   "outputs": [],
   "source": []
  }
 ],
 "metadata": {
  "kernelspec": {
   "display_name": "",
   "name": ""
  },
  "language_info": {
   "name": ""
  }
 },
 "nbformat": 4,
 "nbformat_minor": 5
}
